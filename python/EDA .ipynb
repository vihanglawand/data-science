{
 "cells": [
  {
   "cell_type": "code",
   "execution_count": 3,
   "id": "1bd05e80",
   "metadata": {},
   "outputs": [],
   "source": [
    "import pandas as pd\n",
    "import numpy as np\n",
    "import matplotlib.pyplot as plt\n",
    "import seaborn as sns\n",
    "%matplotlib inline\n",
    "import os"
   ]
  },
  {
   "cell_type": "code",
   "execution_count": 4,
   "id": "edb58514",
   "metadata": {},
   "outputs": [
    {
     "data": {
      "text/plain": [
       "'C:\\\\Users\\\\Vihang'"
      ]
     },
     "execution_count": 4,
     "metadata": {},
     "output_type": "execute_result"
    }
   ],
   "source": [
    "os.getcwd()"
   ]
  },
  {
   "cell_type": "code",
   "execution_count": 5,
   "id": "f50228ef",
   "metadata": {},
   "outputs": [],
   "source": [
    "os.chdir(r\"Downloads\")"
   ]
  },
  {
   "cell_type": "code",
   "execution_count": 6,
   "id": "61acfb58",
   "metadata": {},
   "outputs": [
    {
     "data": {
      "text/plain": [
       "['.opera',\n",
       " '1.png',\n",
       " '2 (1).png',\n",
       " '2.png',\n",
       " '3.png',\n",
       " '5.png',\n",
       " '7601.24214.180801-1700.win7sp1_ldr_escrow_CLIENT_ULTIMATE_x64FRE_en-us.iso',\n",
       " '7z2201-x64.exe',\n",
       " 'aadhar card (1) (1) (1).pdf',\n",
       " 'airtravel.csv',\n",
       " 'Anaconda3-2021.11-Windows-x86_64.exe',\n",
       " 'Apache 200 4V BLUE Leaflet.pdf',\n",
       " 'Apache RTR 200 4V BS VI.pdf',\n",
       " 'Assignment.docx',\n",
       " 'B9ECED6F.ASUSPCAssistant_qmba6cd70vzyy!App',\n",
       " 'BE prelim exam notice.pdf',\n",
       " 'BE RESULT 1 ST SEM.pdf',\n",
       " 'BEML.csv',\n",
       " 'BingWallpaper (1).exe',\n",
       " 'BingWallpaper.exe',\n",
       " 'BlueStacksInstaller_5.6.100.1026_native_c646ebe08a760ee7c18eca6ddac07172_0_TXVzaHJvb20gV2FycyAyOiBSVFMgU3RyYXRlZ3k=.exe',\n",
       " 'Brand_Ambassador_Agreement_V1.pdf',\n",
       " 'BraveBrowserSetup.exe',\n",
       " 'chromedriver_win32',\n",
       " 'chromedriver_win32.zip',\n",
       " 'ChromeSetup.exe',\n",
       " 'Copy_of_Untitled2.ipynb',\n",
       " 'Criminal.Justice-S03E01.A.Dark.Night.720p.DSNP.WEB-DL.Hindi.AAC2.0.H.264-Vegamovies.to.mkv',\n",
       " 'data_clean.csv',\n",
       " 'desktop.ini',\n",
       " 'Dev-Cpp 5.11 TDM-GCC 4.9.2 Setup.exe',\n",
       " 'DriverPack-LAN (1).torrent',\n",
       " 'DriverPack-LAN.torrent',\n",
       " 'e30c3e664d73bf6f609b398446f65a1c92779cb8.torrent',\n",
       " 'eclipse-inst-jre-win64.exe',\n",
       " 'file.pdf',\n",
       " 'GLAXO.csv',\n",
       " 'hello.py',\n",
       " 'homes.csv',\n",
       " 'Hypothesis assignment (3).ipynb',\n",
       " 'Hypothesis Test.ipynb',\n",
       " 'Hypothesis_Testing_Assignment.pptx',\n",
       " 'imagecompressor',\n",
       " 'imagecompressor.zip',\n",
       " 'IMG_20220522_152049 (1) (1).jpg',\n",
       " 'invite (1).ics',\n",
       " 'invite (2).ics',\n",
       " 'invite.ics',\n",
       " 'Invites Applications From.pdf',\n",
       " 'IoT_Unit1.rar',\n",
       " 'IoT_Unit4.rar',\n",
       " 'IoT_Unit5.rar',\n",
       " 'IoT_Unit6.rar',\n",
       " 'KPIT _ Off Campus Open Drive _30th April 2022 (1).pptx',\n",
       " 'KPIT _ Off Campus Open Drive _30th April 2022.pptx',\n",
       " 'LockDownBrowserOEMSetup.exe',\n",
       " 'Logbook-BE_2021-22.doc',\n",
       " 'marekar 2741.zip',\n",
       " 'marekar 3122 (1).zip',\n",
       " 'marekar 3122.zip',\n",
       " 'Mini Project Report.docx',\n",
       " 'mpj-v0_44',\n",
       " 'mpj-v0_44.zip',\n",
       " 'mt4setup.exe',\n",
       " 'mt5setup.exe',\n",
       " 'Mushroom Wars 2[RgIpmWlm8].exe',\n",
       " 'mushroom-wars-2-7992.torrent',\n",
       " 'mushroom-wars-2.torrent',\n",
       " 'nestle internship.pdf',\n",
       " 'New doc 25-Feb-2021 12.41 PM-images',\n",
       " 'New doc 25-Feb-2021 12.41 PM-images.zip',\n",
       " 'New doc 25-Feb-2021 12.41 PM.pdf',\n",
       " 'OpenJDK17U-jdk_x64_windows_hotspot_17.0.3_7.msi',\n",
       " 'OperaSetup.exe',\n",
       " 'Project Final 3 (1).pptx',\n",
       " 'Project Final 3.ppt',\n",
       " 'Project Final 3.pptx',\n",
       " 'Project presentation 21 march .pptx',\n",
       " 'Project presentation Final (1).pptx',\n",
       " 'Project presentation Final.pptx',\n",
       " 'Project Report Phase-II .pdf',\n",
       " 'pycharm-community-2022.1.exe',\n",
       " 'python-3.10.2-amd64.exe',\n",
       " 'python-3.10.4-amd64.exe',\n",
       " 'Python-Modules',\n",
       " 'Python-Modules.zip',\n",
       " 'Q7.csv',\n",
       " 'Q9_a.csv',\n",
       " 'QSB_6.1.33.14_EN.exe',\n",
       " 'R3_Raspberry Pi IoT Projects.pdf',\n",
       " 'resume.pdf',\n",
       " 'Resume_22_3.pdf',\n",
       " 'Rockstar (2011) [1080p] [BluRay] [5.1] [YTS.MX]',\n",
       " 'rufus-3.20.exe',\n",
       " 'sanyukta_patil.docx',\n",
       " 'sanyukta_patil_resume-1.docx',\n",
       " 'sanyukta_patil_resume-1.pdf',\n",
       " 'Screenshot_2022-04-26-12-00-53-71_40deb401b9ffe8e1df2f1cc5ba480b12 (15 files merged).ppt',\n",
       " 'Screenshot_2022-04-26-12-04-43-55_40deb401b9ffe8e1df2f1cc5ba480b12-converted (1).pdf',\n",
       " 'Screenshot_2022-04-26-12-04-43-55_40deb401b9ffe8e1df2f1cc5ba480b12-converted.pdf',\n",
       " 'Screenshot_2022-04-26-12-04-43-55_40deb401b9ffe8e1df2f1cc5ba480b12-converted.pptx',\n",
       " 'set1-assign2.docx',\n",
       " 'Set2-assign2.docx',\n",
       " 'set3-assign2.docx',\n",
       " 'Set4-assign2.docx',\n",
       " 'T1-Bahga-Madisetti-IoT-Book-Slides.zip',\n",
       " 'T2-IoT Fundamentals - David Hanes.pdf',\n",
       " 'T3-Unit_I,II_III(EPC)_Building the Internet of Things with IPv6 and MIPv6_ The Evolving World of M2M C.pdf',\n",
       " 'Telegram Desktop',\n",
       " 'tsetup-x64.3.7.0.exe',\n",
       " 'Unconfirmed 738523.crdownload',\n",
       " 'updates',\n",
       " 'uTorrent.exe',\n",
       " 'vihang assignment 1.ipynb',\n",
       " 'Vihang assignment 2.ipynb',\n",
       " 'Vihang lawand 1-converted.pdf',\n",
       " 'Vihang+lawand+1-converted.pdf',\n",
       " 'vlc-3.0.16-win32 (1).exe',\n",
       " 'vlc-3.0.16-win32.exe',\n",
       " 'VSCodeUserSetup-x64-1.64.2.exe',\n",
       " 'wampserver3.2.0_x64.exe',\n",
       " 'wampserver3_update_xdebug_3.1.4.exe',\n",
       " 'WhatsApp Image 2022-02-02 at 1.23.17 AM (1).jpeg',\n",
       " 'WhatsApp Image 2022-02-02 at 1.23.17 AM-converted.pdf',\n",
       " 'WhatsApp Image 2022-02-02 at 1.23.17 AM.jpeg',\n",
       " 'WhatsApp Video 2022-04-21 at 11.37.36 PM.mp4',\n",
       " 'WhatsApp Video 2022-10-11 at 8.45.44 PM.mp4',\n",
       " 'Windows-ISO-Downloader.exe',\n",
       " 'winrar-x64-611.exe',\n",
       " 'wipro offer letter...pdf',\n",
       " 'Yeh Jawaani Hai Deewani 2013 Hindi 1080p BluRay x264 DD 5.1 MSubs - LOKiHD - Telly']"
      ]
     },
     "execution_count": 6,
     "metadata": {},
     "output_type": "execute_result"
    }
   ],
   "source": [
    "os.listdir(r\"C:\\Users\\Vihang\\Downloads\")"
   ]
  },
  {
   "cell_type": "code",
   "execution_count": 65,
   "id": "27394c6c",
   "metadata": {},
   "outputs": [
    {
     "data": {
      "text/html": [
       "<div>\n",
       "<style scoped>\n",
       "    .dataframe tbody tr th:only-of-type {\n",
       "        vertical-align: middle;\n",
       "    }\n",
       "\n",
       "    .dataframe tbody tr th {\n",
       "        vertical-align: top;\n",
       "    }\n",
       "\n",
       "    .dataframe thead th {\n",
       "        text-align: right;\n",
       "    }\n",
       "</style>\n",
       "<table border=\"1\" class=\"dataframe\">\n",
       "  <thead>\n",
       "    <tr style=\"text-align: right;\">\n",
       "      <th></th>\n",
       "      <th>Ozone</th>\n",
       "      <th>Solar.R</th>\n",
       "      <th>Wind</th>\n",
       "      <th>Temp C</th>\n",
       "      <th>Month</th>\n",
       "      <th>Day</th>\n",
       "      <th>Year</th>\n",
       "      <th>Temp</th>\n",
       "      <th>Weather</th>\n",
       "    </tr>\n",
       "  </thead>\n",
       "  <tbody>\n",
       "    <tr>\n",
       "      <th>1</th>\n",
       "      <td>41.0</td>\n",
       "      <td>190.0</td>\n",
       "      <td>7.4</td>\n",
       "      <td>67</td>\n",
       "      <td>5</td>\n",
       "      <td>1</td>\n",
       "      <td>2010</td>\n",
       "      <td>67</td>\n",
       "      <td>S</td>\n",
       "    </tr>\n",
       "    <tr>\n",
       "      <th>2</th>\n",
       "      <td>36.0</td>\n",
       "      <td>118.0</td>\n",
       "      <td>8.0</td>\n",
       "      <td>72</td>\n",
       "      <td>5</td>\n",
       "      <td>2</td>\n",
       "      <td>2010</td>\n",
       "      <td>72</td>\n",
       "      <td>C</td>\n",
       "    </tr>\n",
       "    <tr>\n",
       "      <th>3</th>\n",
       "      <td>12.0</td>\n",
       "      <td>149.0</td>\n",
       "      <td>12.6</td>\n",
       "      <td>74</td>\n",
       "      <td>5</td>\n",
       "      <td>3</td>\n",
       "      <td>2010</td>\n",
       "      <td>74</td>\n",
       "      <td>PS</td>\n",
       "    </tr>\n",
       "    <tr>\n",
       "      <th>4</th>\n",
       "      <td>18.0</td>\n",
       "      <td>313.0</td>\n",
       "      <td>11.5</td>\n",
       "      <td>62</td>\n",
       "      <td>5</td>\n",
       "      <td>4</td>\n",
       "      <td>2010</td>\n",
       "      <td>62</td>\n",
       "      <td>S</td>\n",
       "    </tr>\n",
       "    <tr>\n",
       "      <th>5</th>\n",
       "      <td>NaN</td>\n",
       "      <td>NaN</td>\n",
       "      <td>14.3</td>\n",
       "      <td>56</td>\n",
       "      <td>5</td>\n",
       "      <td>5</td>\n",
       "      <td>2010</td>\n",
       "      <td>56</td>\n",
       "      <td>S</td>\n",
       "    </tr>\n",
       "  </tbody>\n",
       "</table>\n",
       "</div>"
      ],
      "text/plain": [
       "   Ozone  Solar.R  Wind Temp C Month  Day  Year  Temp Weather\n",
       "1   41.0    190.0   7.4     67     5    1  2010    67       S\n",
       "2   36.0    118.0   8.0     72     5    2  2010    72       C\n",
       "3   12.0    149.0  12.6     74     5    3  2010    74      PS\n",
       "4   18.0    313.0  11.5     62     5    4  2010    62       S\n",
       "5    NaN      NaN  14.3     56     5    5  2010    56       S"
      ]
     },
     "execution_count": 65,
     "metadata": {},
     "output_type": "execute_result"
    }
   ],
   "source": [
    "df = pd.read_csv(\"data_clean.csv\",index_col=0)\n",
    "df.head()"
   ]
  },
  {
   "cell_type": "code",
   "execution_count": 66,
   "id": "5630c084",
   "metadata": {},
   "outputs": [
    {
     "data": {
      "text/html": [
       "<div>\n",
       "<style scoped>\n",
       "    .dataframe tbody tr th:only-of-type {\n",
       "        vertical-align: middle;\n",
       "    }\n",
       "\n",
       "    .dataframe tbody tr th {\n",
       "        vertical-align: top;\n",
       "    }\n",
       "\n",
       "    .dataframe thead th {\n",
       "        text-align: right;\n",
       "    }\n",
       "</style>\n",
       "<table border=\"1\" class=\"dataframe\">\n",
       "  <thead>\n",
       "    <tr style=\"text-align: right;\">\n",
       "      <th></th>\n",
       "      <th>Ozone</th>\n",
       "      <th>Solar.R</th>\n",
       "      <th>Wind</th>\n",
       "      <th>Day</th>\n",
       "      <th>Year</th>\n",
       "      <th>Temp</th>\n",
       "    </tr>\n",
       "  </thead>\n",
       "  <tbody>\n",
       "    <tr>\n",
       "      <th>count</th>\n",
       "      <td>120.000000</td>\n",
       "      <td>151.000000</td>\n",
       "      <td>158.000000</td>\n",
       "      <td>158.000000</td>\n",
       "      <td>158.0</td>\n",
       "      <td>158.000000</td>\n",
       "    </tr>\n",
       "    <tr>\n",
       "      <th>mean</th>\n",
       "      <td>41.583333</td>\n",
       "      <td>185.403974</td>\n",
       "      <td>9.957595</td>\n",
       "      <td>16.006329</td>\n",
       "      <td>2010.0</td>\n",
       "      <td>77.727848</td>\n",
       "    </tr>\n",
       "    <tr>\n",
       "      <th>std</th>\n",
       "      <td>32.620709</td>\n",
       "      <td>88.723103</td>\n",
       "      <td>3.511261</td>\n",
       "      <td>8.997166</td>\n",
       "      <td>0.0</td>\n",
       "      <td>9.377877</td>\n",
       "    </tr>\n",
       "    <tr>\n",
       "      <th>min</th>\n",
       "      <td>1.000000</td>\n",
       "      <td>7.000000</td>\n",
       "      <td>1.700000</td>\n",
       "      <td>1.000000</td>\n",
       "      <td>2010.0</td>\n",
       "      <td>56.000000</td>\n",
       "    </tr>\n",
       "    <tr>\n",
       "      <th>25%</th>\n",
       "      <td>18.000000</td>\n",
       "      <td>119.000000</td>\n",
       "      <td>7.400000</td>\n",
       "      <td>8.000000</td>\n",
       "      <td>2010.0</td>\n",
       "      <td>72.000000</td>\n",
       "    </tr>\n",
       "    <tr>\n",
       "      <th>50%</th>\n",
       "      <td>30.500000</td>\n",
       "      <td>197.000000</td>\n",
       "      <td>9.700000</td>\n",
       "      <td>16.000000</td>\n",
       "      <td>2010.0</td>\n",
       "      <td>78.500000</td>\n",
       "    </tr>\n",
       "    <tr>\n",
       "      <th>75%</th>\n",
       "      <td>61.500000</td>\n",
       "      <td>257.000000</td>\n",
       "      <td>11.875000</td>\n",
       "      <td>24.000000</td>\n",
       "      <td>2010.0</td>\n",
       "      <td>84.000000</td>\n",
       "    </tr>\n",
       "    <tr>\n",
       "      <th>max</th>\n",
       "      <td>168.000000</td>\n",
       "      <td>334.000000</td>\n",
       "      <td>20.700000</td>\n",
       "      <td>31.000000</td>\n",
       "      <td>2010.0</td>\n",
       "      <td>97.000000</td>\n",
       "    </tr>\n",
       "  </tbody>\n",
       "</table>\n",
       "</div>"
      ],
      "text/plain": [
       "            Ozone     Solar.R        Wind         Day    Year        Temp\n",
       "count  120.000000  151.000000  158.000000  158.000000   158.0  158.000000\n",
       "mean    41.583333  185.403974    9.957595   16.006329  2010.0   77.727848\n",
       "std     32.620709   88.723103    3.511261    8.997166     0.0    9.377877\n",
       "min      1.000000    7.000000    1.700000    1.000000  2010.0   56.000000\n",
       "25%     18.000000  119.000000    7.400000    8.000000  2010.0   72.000000\n",
       "50%     30.500000  197.000000    9.700000   16.000000  2010.0   78.500000\n",
       "75%     61.500000  257.000000   11.875000   24.000000  2010.0   84.000000\n",
       "max    168.000000  334.000000   20.700000   31.000000  2010.0   97.000000"
      ]
     },
     "execution_count": 66,
     "metadata": {},
     "output_type": "execute_result"
    }
   ],
   "source": [
    "df.describe()"
   ]
  },
  {
   "cell_type": "code",
   "execution_count": 11,
   "id": "4a09c68f",
   "metadata": {},
   "outputs": [
    {
     "data": {
      "text/html": [
       "<div>\n",
       "<style scoped>\n",
       "    .dataframe tbody tr th:only-of-type {\n",
       "        vertical-align: middle;\n",
       "    }\n",
       "\n",
       "    .dataframe tbody tr th {\n",
       "        vertical-align: top;\n",
       "    }\n",
       "\n",
       "    .dataframe thead th {\n",
       "        text-align: right;\n",
       "    }\n",
       "</style>\n",
       "<table border=\"1\" class=\"dataframe\">\n",
       "  <thead>\n",
       "    <tr style=\"text-align: right;\">\n",
       "      <th></th>\n",
       "      <th>Temp C</th>\n",
       "      <th>Month</th>\n",
       "      <th>Weather</th>\n",
       "    </tr>\n",
       "  </thead>\n",
       "  <tbody>\n",
       "    <tr>\n",
       "      <th>count</th>\n",
       "      <td>158</td>\n",
       "      <td>158</td>\n",
       "      <td>155</td>\n",
       "    </tr>\n",
       "    <tr>\n",
       "      <th>unique</th>\n",
       "      <td>41</td>\n",
       "      <td>6</td>\n",
       "      <td>3</td>\n",
       "    </tr>\n",
       "    <tr>\n",
       "      <th>top</th>\n",
       "      <td>81</td>\n",
       "      <td>9</td>\n",
       "      <td>S</td>\n",
       "    </tr>\n",
       "    <tr>\n",
       "      <th>freq</th>\n",
       "      <td>11</td>\n",
       "      <td>34</td>\n",
       "      <td>59</td>\n",
       "    </tr>\n",
       "  </tbody>\n",
       "</table>\n",
       "</div>"
      ],
      "text/plain": [
       "       Temp C Month Weather\n",
       "count     158   158     155\n",
       "unique     41     6       3\n",
       "top        81     9       S\n",
       "freq       11    34      59"
      ]
     },
     "execution_count": 11,
     "metadata": {},
     "output_type": "execute_result"
    }
   ],
   "source": [
    "df.describe(include='object')"
   ]
  },
  {
   "cell_type": "code",
   "execution_count": 13,
   "id": "fb9c3ce8",
   "metadata": {},
   "outputs": [
    {
     "name": "stdout",
     "output_type": "stream",
     "text": [
      "<class 'pandas.core.frame.DataFrame'>\n",
      "Int64Index: 158 entries, 1 to 158\n",
      "Data columns (total 9 columns):\n",
      " #   Column   Non-Null Count  Dtype  \n",
      "---  ------   --------------  -----  \n",
      " 0   Ozone    120 non-null    float64\n",
      " 1   Solar.R  151 non-null    float64\n",
      " 2   Wind     158 non-null    float64\n",
      " 3   Temp C   158 non-null    object \n",
      " 4   Month    158 non-null    object \n",
      " 5   Day      158 non-null    int64  \n",
      " 6   Year     158 non-null    int64  \n",
      " 7   Temp     158 non-null    int64  \n",
      " 8   Weather  155 non-null    object \n",
      "dtypes: float64(3), int64(3), object(3)\n",
      "memory usage: 12.3+ KB\n"
     ]
    }
   ],
   "source": [
    "df.info()"
   ]
  },
  {
   "cell_type": "raw",
   "id": "c7258624",
   "metadata": {},
   "source": [
    "DATA TYPE CONVERSION"
   ]
  },
  {
   "cell_type": "code",
   "execution_count": 14,
   "id": "60c79abd",
   "metadata": {},
   "outputs": [
    {
     "data": {
      "text/plain": [
       "array(['67', '72', '74', '62', '56', '66', '65', '59', '61', '69', 'C',\n",
       "       '68', '58', '64', '57', '73', '81', '79', '76', '78', '84', '85',\n",
       "       '82', '87', '90', '93', '92', '80', '77', '75', '83', '88', '89',\n",
       "       '91', '86', '97', '94', '96', '71', '63', '70'], dtype=object)"
      ]
     },
     "execution_count": 14,
     "metadata": {},
     "output_type": "execute_result"
    }
   ],
   "source": [
    "df['Temp C'].unique()"
   ]
  },
  {
   "cell_type": "code",
   "execution_count": 16,
   "id": "79c06ef2",
   "metadata": {},
   "outputs": [
    {
     "data": {
      "text/plain": [
       "array(['5', 'May', '6', '7', '8', '9'], dtype=object)"
      ]
     },
     "execution_count": 16,
     "metadata": {},
     "output_type": "execute_result"
    }
   ],
   "source": [
    "df['Month'].unique()"
   ]
  },
  {
   "cell_type": "code",
   "execution_count": 17,
   "id": "76ac7806",
   "metadata": {},
   "outputs": [
    {
     "data": {
      "text/plain": [
       "1      67\n",
       "2      72\n",
       "3      74\n",
       "4      62\n",
       "5      56\n",
       "       ..\n",
       "154    67\n",
       "155    70\n",
       "156    77\n",
       "157    75\n",
       "158    76\n",
       "Name: Temp C, Length: 158, dtype: object"
      ]
     },
     "execution_count": 17,
     "metadata": {},
     "output_type": "execute_result"
    }
   ],
   "source": [
    "df['Temp C'].replace('C',np.nan)"
   ]
  },
  {
   "cell_type": "code",
   "execution_count": 24,
   "id": "b8c313de",
   "metadata": {},
   "outputs": [],
   "source": [
    "df['Month'].replace('May','5',inplace= True)"
   ]
  },
  {
   "cell_type": "code",
   "execution_count": 25,
   "id": "0ec1719c",
   "metadata": {},
   "outputs": [],
   "source": [
    "df['Month']=df['Month'].astype(int)"
   ]
  },
  {
   "cell_type": "code",
   "execution_count": 28,
   "id": "cf635eae",
   "metadata": {},
   "outputs": [
    {
     "data": {
      "text/plain": [
       "dtype('int32')"
      ]
     },
     "execution_count": 28,
     "metadata": {},
     "output_type": "execute_result"
    }
   ],
   "source": [
    "df['Month'].dtype"
   ]
  },
  {
   "cell_type": "code",
   "execution_count": 27,
   "id": "65f9bad4",
   "metadata": {},
   "outputs": [
    {
     "data": {
      "text/plain": [
       "dtype('O')"
      ]
     },
     "execution_count": 27,
     "metadata": {},
     "output_type": "execute_result"
    }
   ],
   "source": [
    "df['Temp C'].dtype"
   ]
  },
  {
   "cell_type": "code",
   "execution_count": 67,
   "id": "a34493d8",
   "metadata": {},
   "outputs": [],
   "source": [
    "df['Temp C']=pd.to_numeric(df['Temp C'],errors='coerce')"
   ]
  },
  {
   "cell_type": "code",
   "execution_count": 30,
   "id": "23220467",
   "metadata": {},
   "outputs": [
    {
     "name": "stdout",
     "output_type": "stream",
     "text": [
      "<class 'pandas.core.frame.DataFrame'>\n",
      "Int64Index: 158 entries, 1 to 158\n",
      "Data columns (total 9 columns):\n",
      " #   Column   Non-Null Count  Dtype  \n",
      "---  ------   --------------  -----  \n",
      " 0   Ozone    120 non-null    float64\n",
      " 1   Solar.R  151 non-null    float64\n",
      " 2   Wind     158 non-null    float64\n",
      " 3   Temp C   157 non-null    float64\n",
      " 4   Month    158 non-null    int32  \n",
      " 5   Day      158 non-null    int64  \n",
      " 6   Year     158 non-null    int64  \n",
      " 7   Temp     158 non-null    int64  \n",
      " 8   Weather  155 non-null    object \n",
      "dtypes: float64(4), int32(1), int64(3), object(1)\n",
      "memory usage: 11.7+ KB\n"
     ]
    }
   ],
   "source": [
    "df.info()"
   ]
  },
  {
   "cell_type": "markdown",
   "id": "6454688c",
   "metadata": {},
   "source": [
    "# Duplicates"
   ]
  },
  {
   "cell_type": "code",
   "execution_count": 68,
   "id": "493e3aea",
   "metadata": {},
   "outputs": [
    {
     "data": {
      "text/html": [
       "<div>\n",
       "<style scoped>\n",
       "    .dataframe tbody tr th:only-of-type {\n",
       "        vertical-align: middle;\n",
       "    }\n",
       "\n",
       "    .dataframe tbody tr th {\n",
       "        vertical-align: top;\n",
       "    }\n",
       "\n",
       "    .dataframe thead th {\n",
       "        text-align: right;\n",
       "    }\n",
       "</style>\n",
       "<table border=\"1\" class=\"dataframe\">\n",
       "  <thead>\n",
       "    <tr style=\"text-align: right;\">\n",
       "      <th></th>\n",
       "      <th>Ozone</th>\n",
       "      <th>Solar.R</th>\n",
       "      <th>Wind</th>\n",
       "      <th>Temp C</th>\n",
       "      <th>Month</th>\n",
       "      <th>Day</th>\n",
       "      <th>Year</th>\n",
       "      <th>Temp</th>\n",
       "      <th>Weather</th>\n",
       "    </tr>\n",
       "  </thead>\n",
       "  <tbody>\n",
       "    <tr>\n",
       "      <th>157</th>\n",
       "      <td>14.0</td>\n",
       "      <td>191.0</td>\n",
       "      <td>14.3</td>\n",
       "      <td>75.0</td>\n",
       "      <td>9</td>\n",
       "      <td>28</td>\n",
       "      <td>2010</td>\n",
       "      <td>75</td>\n",
       "      <td>S</td>\n",
       "    </tr>\n",
       "  </tbody>\n",
       "</table>\n",
       "</div>"
      ],
      "text/plain": [
       "     Ozone  Solar.R  Wind  Temp C Month  Day  Year  Temp Weather\n",
       "157   14.0    191.0  14.3    75.0     9   28  2010    75       S"
      ]
     },
     "execution_count": 68,
     "metadata": {},
     "output_type": "execute_result"
    }
   ],
   "source": [
    "df[df.duplicated()]"
   ]
  },
  {
   "cell_type": "code",
   "execution_count": 69,
   "id": "ed27eb01",
   "metadata": {},
   "outputs": [
    {
     "data": {
      "text/html": [
       "<div>\n",
       "<style scoped>\n",
       "    .dataframe tbody tr th:only-of-type {\n",
       "        vertical-align: middle;\n",
       "    }\n",
       "\n",
       "    .dataframe tbody tr th {\n",
       "        vertical-align: top;\n",
       "    }\n",
       "\n",
       "    .dataframe thead th {\n",
       "        text-align: right;\n",
       "    }\n",
       "</style>\n",
       "<table border=\"1\" class=\"dataframe\">\n",
       "  <thead>\n",
       "    <tr style=\"text-align: right;\">\n",
       "      <th></th>\n",
       "      <th>Ozone</th>\n",
       "      <th>Solar.R</th>\n",
       "      <th>Wind</th>\n",
       "      <th>Temp C</th>\n",
       "      <th>Month</th>\n",
       "      <th>Day</th>\n",
       "      <th>Year</th>\n",
       "      <th>Temp</th>\n",
       "      <th>Weather</th>\n",
       "    </tr>\n",
       "  </thead>\n",
       "  <tbody>\n",
       "    <tr>\n",
       "      <th>151</th>\n",
       "      <td>14.0</td>\n",
       "      <td>191.0</td>\n",
       "      <td>14.3</td>\n",
       "      <td>75.0</td>\n",
       "      <td>9</td>\n",
       "      <td>28</td>\n",
       "      <td>2010</td>\n",
       "      <td>75</td>\n",
       "      <td>S</td>\n",
       "    </tr>\n",
       "    <tr>\n",
       "      <th>157</th>\n",
       "      <td>14.0</td>\n",
       "      <td>191.0</td>\n",
       "      <td>14.3</td>\n",
       "      <td>75.0</td>\n",
       "      <td>9</td>\n",
       "      <td>28</td>\n",
       "      <td>2010</td>\n",
       "      <td>75</td>\n",
       "      <td>S</td>\n",
       "    </tr>\n",
       "  </tbody>\n",
       "</table>\n",
       "</div>"
      ],
      "text/plain": [
       "     Ozone  Solar.R  Wind  Temp C Month  Day  Year  Temp Weather\n",
       "151   14.0    191.0  14.3    75.0     9   28  2010    75       S\n",
       "157   14.0    191.0  14.3    75.0     9   28  2010    75       S"
      ]
     },
     "execution_count": 69,
     "metadata": {},
     "output_type": "execute_result"
    }
   ],
   "source": [
    "df[(df['Ozone']==14.0)&(df['Day']==28)]"
   ]
  },
  {
   "cell_type": "code",
   "execution_count": 70,
   "id": "51e4eb9f",
   "metadata": {},
   "outputs": [
    {
     "data": {
      "text/html": [
       "<div>\n",
       "<style scoped>\n",
       "    .dataframe tbody tr th:only-of-type {\n",
       "        vertical-align: middle;\n",
       "    }\n",
       "\n",
       "    .dataframe tbody tr th {\n",
       "        vertical-align: top;\n",
       "    }\n",
       "\n",
       "    .dataframe thead th {\n",
       "        text-align: right;\n",
       "    }\n",
       "</style>\n",
       "<table border=\"1\" class=\"dataframe\">\n",
       "  <thead>\n",
       "    <tr style=\"text-align: right;\">\n",
       "      <th></th>\n",
       "      <th>Ozone</th>\n",
       "      <th>Solar.R</th>\n",
       "      <th>Wind</th>\n",
       "      <th>Temp C</th>\n",
       "      <th>Month</th>\n",
       "      <th>Day</th>\n",
       "      <th>Year</th>\n",
       "      <th>Temp</th>\n",
       "      <th>Weather</th>\n",
       "    </tr>\n",
       "  </thead>\n",
       "  <tbody>\n",
       "    <tr>\n",
       "      <th>151</th>\n",
       "      <td>14.0</td>\n",
       "      <td>191.0</td>\n",
       "      <td>14.3</td>\n",
       "      <td>75.0</td>\n",
       "      <td>9</td>\n",
       "      <td>28</td>\n",
       "      <td>2010</td>\n",
       "      <td>75</td>\n",
       "      <td>S</td>\n",
       "    </tr>\n",
       "    <tr>\n",
       "      <th>157</th>\n",
       "      <td>14.0</td>\n",
       "      <td>191.0</td>\n",
       "      <td>14.3</td>\n",
       "      <td>75.0</td>\n",
       "      <td>9</td>\n",
       "      <td>28</td>\n",
       "      <td>2010</td>\n",
       "      <td>75</td>\n",
       "      <td>S</td>\n",
       "    </tr>\n",
       "  </tbody>\n",
       "</table>\n",
       "</div>"
      ],
      "text/plain": [
       "     Ozone  Solar.R  Wind  Temp C Month  Day  Year  Temp Weather\n",
       "151   14.0    191.0  14.3    75.0     9   28  2010    75       S\n",
       "157   14.0    191.0  14.3    75.0     9   28  2010    75       S"
      ]
     },
     "execution_count": 70,
     "metadata": {},
     "output_type": "execute_result"
    }
   ],
   "source": [
    "df[df.duplicated(keep=False)]"
   ]
  },
  {
   "cell_type": "code",
   "execution_count": 71,
   "id": "014c05dd",
   "metadata": {},
   "outputs": [],
   "source": [
    "df.drop_duplicates(inplace=True)"
   ]
  },
  {
   "cell_type": "code",
   "execution_count": 72,
   "id": "978e2901",
   "metadata": {},
   "outputs": [
    {
     "data": {
      "text/html": [
       "<div>\n",
       "<style scoped>\n",
       "    .dataframe tbody tr th:only-of-type {\n",
       "        vertical-align: middle;\n",
       "    }\n",
       "\n",
       "    .dataframe tbody tr th {\n",
       "        vertical-align: top;\n",
       "    }\n",
       "\n",
       "    .dataframe thead th {\n",
       "        text-align: right;\n",
       "    }\n",
       "</style>\n",
       "<table border=\"1\" class=\"dataframe\">\n",
       "  <thead>\n",
       "    <tr style=\"text-align: right;\">\n",
       "      <th></th>\n",
       "      <th>Ozone</th>\n",
       "      <th>Solar.R</th>\n",
       "      <th>Wind</th>\n",
       "      <th>Temp C</th>\n",
       "      <th>Month</th>\n",
       "      <th>Day</th>\n",
       "      <th>Year</th>\n",
       "      <th>Temp</th>\n",
       "      <th>Weather</th>\n",
       "    </tr>\n",
       "  </thead>\n",
       "  <tbody>\n",
       "  </tbody>\n",
       "</table>\n",
       "</div>"
      ],
      "text/plain": [
       "Empty DataFrame\n",
       "Columns: [Ozone, Solar.R, Wind, Temp C, Month, Day, Year, Temp, Weather]\n",
       "Index: []"
      ]
     },
     "execution_count": 72,
     "metadata": {},
     "output_type": "execute_result"
    }
   ],
   "source": [
    "df[df.duplicated()]"
   ]
  },
  {
   "cell_type": "markdown",
   "id": "415401a0",
   "metadata": {},
   "source": [
    "# drop columns"
   ]
  },
  {
   "cell_type": "code",
   "execution_count": 73,
   "id": "94d0eae1",
   "metadata": {},
   "outputs": [
    {
     "data": {
      "text/html": [
       "<div>\n",
       "<style scoped>\n",
       "    .dataframe tbody tr th:only-of-type {\n",
       "        vertical-align: middle;\n",
       "    }\n",
       "\n",
       "    .dataframe tbody tr th {\n",
       "        vertical-align: top;\n",
       "    }\n",
       "\n",
       "    .dataframe thead th {\n",
       "        text-align: right;\n",
       "    }\n",
       "</style>\n",
       "<table border=\"1\" class=\"dataframe\">\n",
       "  <thead>\n",
       "    <tr style=\"text-align: right;\">\n",
       "      <th></th>\n",
       "      <th>Ozone</th>\n",
       "      <th>Solar.R</th>\n",
       "      <th>Wind</th>\n",
       "      <th>Temp C</th>\n",
       "      <th>Month</th>\n",
       "      <th>Day</th>\n",
       "      <th>Year</th>\n",
       "      <th>Temp</th>\n",
       "      <th>Weather</th>\n",
       "    </tr>\n",
       "  </thead>\n",
       "  <tbody>\n",
       "    <tr>\n",
       "      <th>1</th>\n",
       "      <td>41.0</td>\n",
       "      <td>190.0</td>\n",
       "      <td>7.4</td>\n",
       "      <td>67.0</td>\n",
       "      <td>5</td>\n",
       "      <td>1</td>\n",
       "      <td>2010</td>\n",
       "      <td>67</td>\n",
       "      <td>S</td>\n",
       "    </tr>\n",
       "    <tr>\n",
       "      <th>2</th>\n",
       "      <td>36.0</td>\n",
       "      <td>118.0</td>\n",
       "      <td>8.0</td>\n",
       "      <td>72.0</td>\n",
       "      <td>5</td>\n",
       "      <td>2</td>\n",
       "      <td>2010</td>\n",
       "      <td>72</td>\n",
       "      <td>C</td>\n",
       "    </tr>\n",
       "    <tr>\n",
       "      <th>3</th>\n",
       "      <td>12.0</td>\n",
       "      <td>149.0</td>\n",
       "      <td>12.6</td>\n",
       "      <td>74.0</td>\n",
       "      <td>5</td>\n",
       "      <td>3</td>\n",
       "      <td>2010</td>\n",
       "      <td>74</td>\n",
       "      <td>PS</td>\n",
       "    </tr>\n",
       "    <tr>\n",
       "      <th>4</th>\n",
       "      <td>18.0</td>\n",
       "      <td>313.0</td>\n",
       "      <td>11.5</td>\n",
       "      <td>62.0</td>\n",
       "      <td>5</td>\n",
       "      <td>4</td>\n",
       "      <td>2010</td>\n",
       "      <td>62</td>\n",
       "      <td>S</td>\n",
       "    </tr>\n",
       "    <tr>\n",
       "      <th>5</th>\n",
       "      <td>NaN</td>\n",
       "      <td>NaN</td>\n",
       "      <td>14.3</td>\n",
       "      <td>56.0</td>\n",
       "      <td>5</td>\n",
       "      <td>5</td>\n",
       "      <td>2010</td>\n",
       "      <td>56</td>\n",
       "      <td>S</td>\n",
       "    </tr>\n",
       "  </tbody>\n",
       "</table>\n",
       "</div>"
      ],
      "text/plain": [
       "   Ozone  Solar.R  Wind  Temp C Month  Day  Year  Temp Weather\n",
       "1   41.0    190.0   7.4    67.0     5    1  2010    67       S\n",
       "2   36.0    118.0   8.0    72.0     5    2  2010    72       C\n",
       "3   12.0    149.0  12.6    74.0     5    3  2010    74      PS\n",
       "4   18.0    313.0  11.5    62.0     5    4  2010    62       S\n",
       "5    NaN      NaN  14.3    56.0     5    5  2010    56       S"
      ]
     },
     "execution_count": 73,
     "metadata": {},
     "output_type": "execute_result"
    }
   ],
   "source": [
    "df.head()"
   ]
  },
  {
   "cell_type": "markdown",
   "id": "f5f0ace4",
   "metadata": {},
   "source": [
    "# Rename the columns"
   ]
  },
  {
   "cell_type": "code",
   "execution_count": 74,
   "id": "934689c8",
   "metadata": {},
   "outputs": [],
   "source": [
    "df.rename(columns={'Solar.R':'Solar'},inplace=True)"
   ]
  },
  {
   "cell_type": "markdown",
   "id": "af1c219d",
   "metadata": {},
   "source": [
    "# Missing value imputation\n"
   ]
  },
  {
   "cell_type": "code",
   "execution_count": 75,
   "id": "52dcc6d9",
   "metadata": {},
   "outputs": [
    {
     "data": {
      "text/plain": [
       "Ozone      38\n",
       "Solar       7\n",
       "Wind        0\n",
       "Temp C      1\n",
       "Month       0\n",
       "Day         0\n",
       "Year        0\n",
       "Temp        0\n",
       "Weather     3\n",
       "dtype: int64"
      ]
     },
     "execution_count": 75,
     "metadata": {},
     "output_type": "execute_result"
    }
   ],
   "source": [
    "df.isna().sum()"
   ]
  },
  {
   "cell_type": "code",
   "execution_count": 76,
   "id": "66b27b31",
   "metadata": {},
   "outputs": [],
   "source": [
    "plt.rcParams['figure.figsize']=(10,5)\n",
    "plt.rcParams['figure.dpi']=250\n",
    "sns.set_style('darkgrid')"
   ]
  },
  {
   "cell_type": "code",
   "execution_count": 77,
   "id": "e66bf785",
   "metadata": {
    "scrolled": true
   },
   "outputs": [
    {
     "data": {
      "text/plain": [
       "<AxesSubplot:>"
      ]
     },
     "execution_count": 77,
     "metadata": {},
     "output_type": "execute_result"
    },
    {
     "data": {
      "image/png": "[encoded data removed]",
      "text/plain": [
       "<Figure size 2500x1250 with 2 Axes>"
      ]
     },
     "metadata": {},
     "output_type": "display_data"
    }
   ],
   "source": [
    "sns.heatmap(df.isna(),cmap=['blue','red'])"
   ]
  },
  {
   "cell_type": "markdown",
   "id": "45e0f0b8",
   "metadata": {},
   "source": [
    "# Rules for missing value imputation"
   ]
  },
  {
   "cell_type": "code",
   "execution_count": 78,
   "id": "2705c5d5",
   "metadata": {},
   "outputs": [],
   "source": [
    "null_val=df.isna().sum()/len(df)*100"
   ]
  },
  {
   "cell_type": "code",
   "execution_count": 79,
   "id": "fed9303b",
   "metadata": {},
   "outputs": [
    {
     "data": {
      "text/plain": [
       "Ozone      24.203822\n",
       "Solar       4.458599\n",
       "Wind        0.000000\n",
       "Temp C      0.636943\n",
       "Month       0.000000\n",
       "Day         0.000000\n",
       "Year        0.000000\n",
       "Temp        0.000000\n",
       "Weather     1.910828\n",
       "dtype: float64"
      ]
     },
     "execution_count": 79,
     "metadata": {},
     "output_type": "execute_result"
    }
   ],
   "source": [
    "null_val"
   ]
  },
  {
   "cell_type": "code",
   "execution_count": 80,
   "id": "74ebbd92",
   "metadata": {},
   "outputs": [],
   "source": [
    "median=df['Ozone'].median()\n",
    "df['Ozone'].fillna(median, inplace=True)"
   ]
  },
  {
   "cell_type": "code",
   "execution_count": 81,
   "id": "5e62e1aa",
   "metadata": {},
   "outputs": [
    {
     "data": {
      "text/plain": [
       "Index(['Ozone', 'Solar', 'Wind', 'Temp C', 'Month', 'Day', 'Year', 'Temp',\n",
       "       'Weather'],\n",
       "      dtype='object')"
      ]
     },
     "execution_count": 81,
     "metadata": {},
     "output_type": "execute_result"
    }
   ],
   "source": [
    "df.columns"
   ]
  },
  {
   "cell_type": "code",
   "execution_count": 82,
   "id": "fb096ed7",
   "metadata": {},
   "outputs": [],
   "source": [
    "df['Solar'].fillna(df['Solar'].median() ,inplace=True)"
   ]
  },
  {
   "cell_type": "code",
   "execution_count": 84,
   "id": "bc2635e2",
   "metadata": {},
   "outputs": [],
   "source": [
    "df['Weather'].fillna(df['Weather'].mode()[0],inplace=True)"
   ]
  },
  {
   "cell_type": "code",
   "execution_count": 85,
   "id": "0cf8ea34",
   "metadata": {},
   "outputs": [],
   "source": [
    "df['Ozone'].fillna(df['Ozone'].median(),inplace=True)"
   ]
  },
  {
   "cell_type": "code",
   "execution_count": 86,
   "id": "af8cdef8",
   "metadata": {},
   "outputs": [
    {
     "data": {
      "text/plain": [
       "Ozone      0\n",
       "Solar      0\n",
       "Wind       0\n",
       "Temp C     1\n",
       "Month      0\n",
       "Day        0\n",
       "Year       0\n",
       "Temp       0\n",
       "Weather    0\n",
       "dtype: int64"
      ]
     },
     "execution_count": 86,
     "metadata": {},
     "output_type": "execute_result"
    }
   ],
   "source": [
    "df.isnull().sum()"
   ]
  },
  {
   "cell_type": "code",
   "execution_count": null,
   "id": "77d50153",
   "metadata": {},
   "outputs": [],
   "source": []
  }
 ],
 "metadata": {
  "kernelspec": {
   "display_name": "Python 3 (ipykernel)",
   "language": "python",
   "name": "python3"
  },
  "language_info": {
   "codemirror_mode": {
    "name": "ipython",
    "version": 3
   },
   "file_extension": ".py",
   "mimetype": "text/x-python",
   "name": "python",
   "nbconvert_exporter": "python",
   "pygments_lexer": "ipython3",
   "version": "3.9.7"
  }
 },
 "nbformat": 4,
 "nbformat_minor": 5
}
