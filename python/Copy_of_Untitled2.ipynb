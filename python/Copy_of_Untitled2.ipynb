{
  "nbformat": 4,
  "nbformat_minor": 0,
  "metadata": {
    "colab": {
      "provenance": []
    },
    "kernelspec": {
      "name": "python3",
      "display_name": "Python 3"
    },
    "language_info": {
      "name": "python"
    }
  },
  "cells": [
    {
      "cell_type": "code",
      "source": [
        "  !pip install numpy\n",
        "import numpy as np"
      ],
      "metadata": {
        "colab": {
          "base_uri": "https://localhost:8080/"
        },
        "id": "grhVUsuZ6veU",
        "outputId": "353fbaef-523e-4175-da82-6b8c95ef409b"
      },
      "execution_count": null,
      "outputs": [
        {
          "output_type": "stream",
          "name": "stdout",
          "text": [
            "Looking in indexes: https://pypi.org/simple, https://us-python.pkg.dev/colab-wheels/public/simple/\n",
            "Requirement already satisfied: numpy in /usr/local/lib/python3.7/dist-packages (1.21.6)\n"
          ]
        }
      ]
    },
    {
      "cell_type": "code",
      "source": [
        "z= np.array(10)\n",
        "z.ndim"
      ],
      "metadata": {
        "colab": {
          "base_uri": "https://localhost:8080/"
        },
        "id": "PYqPbPaX6vaK",
        "outputId": "63232e7d-f27f-47d7-d7d9-1e842ce06f2a"
      },
      "execution_count": null,
      "outputs": [
        {
          "output_type": "execute_result",
          "data": {
            "text/plain": [
              "0"
            ]
          },
          "metadata": {},
          "execution_count": 4
        }
      ]
    },
    {
      "cell_type": "code",
      "source": [
        "#one dimension array"
      ],
      "metadata": {
        "id": "cMZ6hg0c6vVq"
      },
      "execution_count": null,
      "outputs": []
    },
    {
      "cell_type": "code",
      "source": [
        "o=np.array([10,12,12,15])\n",
        "o.ndim"
      ],
      "metadata": {
        "colab": {
          "base_uri": "https://localhost:8080/"
        },
        "id": "iSrJ-2sd6vRv",
        "outputId": "3f1f4e05-b655-4c19-bb6e-56adf464ec8d"
      },
      "execution_count": null,
      "outputs": [
        {
          "output_type": "execute_result",
          "data": {
            "text/plain": [
              "1"
            ]
          },
          "metadata": {},
          "execution_count": 6
        }
      ]
    },
    {
      "cell_type": "code",
      "source": [
        "#two dimension array"
      ],
      "metadata": {
        "id": "Jml-1BW56vMu"
      },
      "execution_count": null,
      "outputs": []
    },
    {
      "cell_type": "code",
      "source": [
        "t = np.array([[10,10,12,15,14]])\n",
        "t.ndim"
      ],
      "metadata": {
        "colab": {
          "base_uri": "https://localhost:8080/"
        },
        "id": "46Q6o2xk6vHH",
        "outputId": "ef7fb5da-9f10-4b0c-9b42-e85e1e57239d"
      },
      "execution_count": null,
      "outputs": [
        {
          "output_type": "execute_result",
          "data": {
            "text/plain": [
              "2"
            ]
          },
          "metadata": {},
          "execution_count": 8
        }
      ]
    },
    {
      "cell_type": "code",
      "source": [
        "#three dimension array"
      ],
      "metadata": {
        "id": "KFK9vM_q6vBI"
      },
      "execution_count": null,
      "outputs": []
    },
    {
      "cell_type": "code",
      "source": [
        "th=np.array([[[10,12,14,15,16]]])\n",
        "th.ndim"
      ],
      "metadata": {
        "colab": {
          "base_uri": "https://localhost:8080/"
        },
        "id": "Y6uwjlxK6usB",
        "outputId": "80b17e5b-8783-44b4-84b9-875f869c12f0"
      },
      "execution_count": null,
      "outputs": [
        {
          "output_type": "execute_result",
          "data": {
            "text/plain": [
              "3"
            ]
          },
          "metadata": {},
          "execution_count": 11
        }
      ]
    },
    {
      "cell_type": "code",
      "source": [
        "# change the data types of the array element"
      ],
      "metadata": {
        "id": "GhSRP35D6tij"
      },
      "execution_count": null,
      "outputs": []
    },
    {
      "cell_type": "code",
      "execution_count": null,
      "metadata": {
        "id": "WPzb4gTj6sS7"
      },
      "outputs": [],
      "source": [
        "a= np.array([10,15,52,54])"
      ]
    },
    {
      "cell_type": "code",
      "source": [
        "a.dtype"
      ],
      "metadata": {
        "colab": {
          "base_uri": "https://localhost:8080/"
        },
        "id": "I8dHJ4OQ79aB",
        "outputId": "27640477-17e5-4bc2-d0ea-7f3f95b3a8dc"
      },
      "execution_count": null,
      "outputs": [
        {
          "output_type": "execute_result",
          "data": {
            "text/plain": [
              "dtype('int64')"
            ]
          },
          "metadata": {},
          "execution_count": 15
        }
      ]
    },
    {
      "cell_type": "code",
      "source": [
        "a= np.array([10,15,52,54], dtype= 'float')\n",
        "print(a.dtype)\n",
        "print('hello')\n",
        "a\n"
      ],
      "metadata": {
        "colab": {
          "base_uri": "https://localhost:8080/"
        },
        "id": "tWzE3RMn7_t-",
        "outputId": "759b1774-6eab-4067-f490-22f2fa40bb50"
      },
      "execution_count": null,
      "outputs": [
        {
          "output_type": "stream",
          "name": "stdout",
          "text": [
            "float64\n",
            "hello\n"
          ]
        },
        {
          "output_type": "execute_result",
          "data": {
            "text/plain": [
              "array([10., 15., 52., 54.])"
            ]
          },
          "metadata": {},
          "execution_count": 22
        }
      ]
    },
    {
      "cell_type": "code",
      "source": [
        " # other ways of creating an array\n",
        "1. arange\n",
        "2.linespace\n",
        "3. zeros\n",
        "4. rand\n",
        "5. randint"
      ],
      "metadata": {
        "id": "-6x9TZbr9IGe"
      },
      "execution_count": null,
      "outputs": []
    },
    {
      "cell_type": "markdown",
      "source": [],
      "metadata": {
        "id": "uhlZUNJ09LFk"
      }
    },
    {
      "cell_type": "code",
      "source": [
        "a =np.arange(1,21,2)\n",
        "a"
      ],
      "metadata": {
        "colab": {
          "base_uri": "https://localhost:8080/"
        },
        "id": "1V_uwFWh9UM4",
        "outputId": "e8c34ac3-36b9-4132-f225-0bdc5f4e4b94"
      },
      "execution_count": null,
      "outputs": [
        {
          "output_type": "execute_result",
          "data": {
            "text/plain": [
              "array([ 1,  3,  5,  7,  9, 11, 13, 15, 17, 19])"
            ]
          },
          "metadata": {},
          "execution_count": 25
        }
      ]
    },
    {
      "cell_type": "code",
      "source": [
        "b= np.linspace(1,5,15,retstep= 'true')\n",
        "b"
      ],
      "metadata": {
        "colab": {
          "base_uri": "https://localhost:8080/"
        },
        "id": "A8p-2Ff39UJn",
        "outputId": "0448911a-09b1-44f5-cf42-9f872f5909ef"
      },
      "execution_count": null,
      "outputs": [
        {
          "output_type": "execute_result",
          "data": {
            "text/plain": [
              "(array([1.        , 1.28571429, 1.57142857, 1.85714286, 2.14285714,\n",
              "        2.42857143, 2.71428571, 3.        , 3.28571429, 3.57142857,\n",
              "        3.85714286, 4.14285714, 4.42857143, 4.71428571, 5.        ]),\n",
              " 0.2857142857142857)"
            ]
          },
          "metadata": {},
          "execution_count": 30
        }
      ]
    },
    {
      "cell_type": "code",
      "source": [
        "o= np.ones([5,5])\n",
        "o"
      ],
      "metadata": {
        "colab": {
          "base_uri": "https://localhost:8080/"
        },
        "id": "U8e3t9e99UFo",
        "outputId": "ef39243a-3b7f-4868-9658-b524f9a6520b"
      },
      "execution_count": null,
      "outputs": [
        {
          "output_type": "execute_result",
          "data": {
            "text/plain": [
              "array([[1., 1., 1., 1., 1.],\n",
              "       [1., 1., 1., 1., 1.],\n",
              "       [1., 1., 1., 1., 1.],\n",
              "       [1., 1., 1., 1., 1.],\n",
              "       [1., 1., 1., 1., 1.]])"
            ]
          },
          "metadata": {},
          "execution_count": 32
        }
      ]
    },
    {
      "cell_type": "code",
      "source": [
        "r= np.random.rand(5,5)\n",
        "r"
      ],
      "metadata": {
        "colab": {
          "base_uri": "https://localhost:8080/"
        },
        "id": "xVw5eJPp9UB7",
        "outputId": "081e7a9c-9120-4b1a-d995-4a97a718145f"
      },
      "execution_count": null,
      "outputs": [
        {
          "output_type": "execute_result",
          "data": {
            "text/plain": [
              "array([[0.41590367, 0.06439405, 0.63566657, 0.20966234, 0.69736734],\n",
              "       [0.70134523, 0.96276938, 0.51335639, 0.22849764, 0.29641171],\n",
              "       [0.80121215, 0.02267248, 0.10733381, 0.97156753, 0.41820441],\n",
              "       [0.84907178, 0.67080179, 0.55030953, 0.70875888, 0.96485848],\n",
              "       [0.68331607, 0.12206528, 0.428418  , 0.76759429, 0.31670651]])"
            ]
          },
          "metadata": {},
          "execution_count": 33
        }
      ]
    },
    {
      "cell_type": "code",
      "source": [
        "r=np.random.randint(5, size = 10)\n",
        "r"
      ],
      "metadata": {
        "colab": {
          "base_uri": "https://localhost:8080/"
        },
        "id": "AruLMX7p9T-J",
        "outputId": "cb66c12d-9f8b-495e-9fa6-e8eb1acdc838"
      },
      "execution_count": null,
      "outputs": [
        {
          "output_type": "execute_result",
          "data": {
            "text/plain": [
              "array([1, 1, 0, 1, 1, 4, 2, 1, 0, 0])"
            ]
          },
          "metadata": {},
          "execution_count": 35
        }
      ]
    },
    {
      "cell_type": "code",
      "source": [],
      "metadata": {
        "id": "d7pSs4Ef9T6Z"
      },
      "execution_count": null,
      "outputs": []
    },
    {
      "cell_type": "markdown",
      "source": [
        "Slicing and indexing of arrays"
      ],
      "metadata": {
        "id": "E8Ewx1_3-zgs"
      }
    },
    {
      "cell_type": "code",
      "source": [
        "a= np.array([[1,2,3],[4,5,6]])"
      ],
      "metadata": {
        "id": "dTmm5RRu9T2e"
      },
      "execution_count": null,
      "outputs": []
    },
    {
      "cell_type": "code",
      "source": [
        "a[1,2]"
      ],
      "metadata": {
        "colab": {
          "base_uri": "https://localhost:8080/"
        },
        "id": "TDo4dzp69Ty9",
        "outputId": "28026146-e29a-4650-a7e8-6f9f7e1320e4"
      },
      "execution_count": null,
      "outputs": [
        {
          "output_type": "execute_result",
          "data": {
            "text/plain": [
              "6"
            ]
          },
          "metadata": {},
          "execution_count": 37
        }
      ]
    },
    {
      "cell_type": "code",
      "source": [
        "a"
      ],
      "metadata": {
        "colab": {
          "base_uri": "https://localhost:8080/"
        },
        "id": "3Ftulaiz9Tvd",
        "outputId": "2947f468-c8de-46f1-8961-cc66cfb13204"
      },
      "execution_count": null,
      "outputs": [
        {
          "output_type": "execute_result",
          "data": {
            "text/plain": [
              "array([[1, 2, 3],\n",
              "       [4, 5, 6]])"
            ]
          },
          "metadata": {},
          "execution_count": 38
        }
      ]
    },
    {
      "cell_type": "code",
      "source": [
        "a[0,0]"
      ],
      "metadata": {
        "colab": {
          "base_uri": "https://localhost:8080/"
        },
        "id": "359gGTOq9Trx",
        "outputId": "44f8e8ea-46b7-4a25-f54e-48cd0660bd8e"
      },
      "execution_count": null,
      "outputs": [
        {
          "output_type": "execute_result",
          "data": {
            "text/plain": [
              "1"
            ]
          },
          "metadata": {},
          "execution_count": 39
        }
      ]
    },
    {
      "cell_type": "code",
      "source": [
        "a[0,1:]"
      ],
      "metadata": {
        "colab": {
          "base_uri": "https://localhost:8080/"
        },
        "id": "Btwrva5V9S3A",
        "outputId": "0593b890-0c54-43d8-c81d-7c633b62d4ba"
      },
      "execution_count": null,
      "outputs": [
        {
          "output_type": "execute_result",
          "data": {
            "text/plain": [
              "array([2, 3])"
            ]
          },
          "metadata": {},
          "execution_count": 40
        }
      ]
    },
    {
      "cell_type": "code",
      "source": [
        "a[0:,1:]"
      ],
      "metadata": {
        "colab": {
          "base_uri": "https://localhost:8080/"
        },
        "id": "mve-IozA8Wbr",
        "outputId": "a57ea5a0-1feb-4799-905f-f87123bc8560"
      },
      "execution_count": null,
      "outputs": [
        {
          "output_type": "execute_result",
          "data": {
            "text/plain": [
              "array([[2, 3],\n",
              "       [5, 6]])"
            ]
          },
          "metadata": {},
          "execution_count": 43
        }
      ]
    },
    {
      "cell_type": "code",
      "source": [
        "# for 1 and 6\n",
        "a[[0,1],[0,2]]"
      ],
      "metadata": {
        "colab": {
          "base_uri": "https://localhost:8080/"
        },
        "id": "DYocrhyf_ZzY",
        "outputId": "2374d512-43f3-45ce-8350-4bc8ca63d08d"
      },
      "execution_count": null,
      "outputs": [
        {
          "output_type": "execute_result",
          "data": {
            "text/plain": [
              "array([1, 6])"
            ]
          },
          "metadata": {},
          "execution_count": 45
        }
      ]
    },
    {
      "cell_type": "code",
      "source": [
        "# for 3 and 4\n",
        "a[[0,1],[2,0]]"
      ],
      "metadata": {
        "colab": {
          "base_uri": "https://localhost:8080/"
        },
        "id": "4-BeWzL3_hoX",
        "outputId": "eb815bd3-40d2-4062-b210-8ce9ba86b467"
      },
      "execution_count": null,
      "outputs": [
        {
          "output_type": "execute_result",
          "data": {
            "text/plain": [
              "array([3, 4])"
            ]
          },
          "metadata": {},
          "execution_count": 48
        }
      ]
    },
    {
      "cell_type": "code",
      "source": [],
      "metadata": {
        "id": "-737sHr6__sO"
      },
      "execution_count": null,
      "outputs": []
    },
    {
      "cell_type": "markdown",
      "source": [
        "RESHAPING THE ARRAYS\n",
        "\n",
        "\n"
      ],
      "metadata": {
        "id": "6loTNpGkAS5t"
      }
    },
    {
      "cell_type": "code",
      "source": [
        "a= np.random.rand(5,2)"
      ],
      "metadata": {
        "id": "Li1ceT0oAXv1"
      },
      "execution_count": null,
      "outputs": []
    },
    {
      "cell_type": "code",
      "source": [
        "a"
      ],
      "metadata": {
        "colab": {
          "base_uri": "https://localhost:8080/"
        },
        "id": "dRNl_IWWAmUc",
        "outputId": "dc14d2b2-61a2-478d-e888-2fcd6c09470a"
      },
      "execution_count": null,
      "outputs": [
        {
          "output_type": "execute_result",
          "data": {
            "text/plain": [
              "array([[0.47300011, 0.46771514],\n",
              "       [0.83173239, 0.49632726],\n",
              "       [0.66680982, 0.37024617],\n",
              "       [0.0343053 , 0.46951732],\n",
              "       [0.59795698, 0.43291572]])"
            ]
          },
          "metadata": {},
          "execution_count": 50
        }
      ]
    },
    {
      "cell_type": "code",
      "source": [
        "a.reshape(2,5)"
      ],
      "metadata": {
        "colab": {
          "base_uri": "https://localhost:8080/"
        },
        "id": "9NPFz_99AmwX",
        "outputId": "7472529f-2859-4b85-a97a-d9784eb7556e"
      },
      "execution_count": null,
      "outputs": [
        {
          "output_type": "execute_result",
          "data": {
            "text/plain": [
              "array([[0.47300011, 0.46771514, 0.83173239, 0.49632726, 0.66680982],\n",
              "       [0.37024617, 0.0343053 , 0.46951732, 0.59795698, 0.43291572]])"
            ]
          },
          "metadata": {},
          "execution_count": 51
        }
      ]
    },
    {
      "cell_type": "code",
      "source": [
        "a.reshape(10,1)"
      ],
      "metadata": {
        "colab": {
          "base_uri": "https://localhost:8080/"
        },
        "id": "B9cTVzx-Apjk",
        "outputId": "80f0b668-b3f9-4df7-9632-665c6e275b81"
      },
      "execution_count": null,
      "outputs": [
        {
          "output_type": "execute_result",
          "data": {
            "text/plain": [
              "array([[0.47300011],\n",
              "       [0.46771514],\n",
              "       [0.83173239],\n",
              "       [0.49632726],\n",
              "       [0.66680982],\n",
              "       [0.37024617],\n",
              "       [0.0343053 ],\n",
              "       [0.46951732],\n",
              "       [0.59795698],\n",
              "       [0.43291572]])"
            ]
          },
          "metadata": {},
          "execution_count": 52
        }
      ]
    },
    {
      "cell_type": "code",
      "source": [
        "a.reshape(1,10)\n"
      ],
      "metadata": {
        "colab": {
          "base_uri": "https://localhost:8080/"
        },
        "id": "Ks8sDYMUAtbV",
        "outputId": "12d75c3a-f6f7-4fe6-b3f2-d8169548d3af"
      },
      "execution_count": null,
      "outputs": [
        {
          "output_type": "execute_result",
          "data": {
            "text/plain": [
              "array([[0.47300011, 0.46771514, 0.83173239, 0.49632726, 0.66680982,\n",
              "        0.37024617, 0.0343053 , 0.46951732, 0.59795698, 0.43291572]])"
            ]
          },
          "metadata": {},
          "execution_count": 56
        }
      ]
    },
    {
      "cell_type": "code",
      "source": [
        "a.reshape(5,-1)"
      ],
      "metadata": {
        "colab": {
          "base_uri": "https://localhost:8080/"
        },
        "id": "x13NH8dRAw9n",
        "outputId": "43142fac-d09b-4de4-a7d3-b36609304097"
      },
      "execution_count": null,
      "outputs": [
        {
          "output_type": "execute_result",
          "data": {
            "text/plain": [
              "array([[0.47300011, 0.46771514],\n",
              "       [0.83173239, 0.49632726],\n",
              "       [0.66680982, 0.37024617],\n",
              "       [0.0343053 , 0.46951732],\n",
              "       [0.59795698, 0.43291572]])"
            ]
          },
          "metadata": {},
          "execution_count": 54
        }
      ]
    },
    {
      "cell_type": "markdown",
      "source": [
        "AGGREGATE FUNCTIONS\n"
      ],
      "metadata": {
        "id": "04Wi6VTaBmZn"
      }
    },
    {
      "cell_type": "code",
      "source": [
        "a.min()"
      ],
      "metadata": {
        "colab": {
          "base_uri": "https://localhost:8080/"
        },
        "id": "DAYpFx8sA6m8",
        "outputId": "c5cabf18-aeec-4299-9117-d8c11f03bd1f"
      },
      "execution_count": null,
      "outputs": [
        {
          "output_type": "execute_result",
          "data": {
            "text/plain": [
              "0.03430529678714711"
            ]
          },
          "metadata": {},
          "execution_count": 57
        }
      ]
    },
    {
      "cell_type": "code",
      "source": [
        "a.max()"
      ],
      "metadata": {
        "colab": {
          "base_uri": "https://localhost:8080/"
        },
        "id": "2H-mDvJABu-Q",
        "outputId": "95f7ac81-32a5-49aa-acba-1b1813db6f9e"
      },
      "execution_count": null,
      "outputs": [
        {
          "output_type": "execute_result",
          "data": {
            "text/plain": [
              "0.8317323872121672"
            ]
          },
          "metadata": {},
          "execution_count": 58
        }
      ]
    },
    {
      "cell_type": "code",
      "source": [
        "a.std()"
      ],
      "metadata": {
        "colab": {
          "base_uri": "https://localhost:8080/"
        },
        "id": "Wnw5pjotBwMc",
        "outputId": "92164dec-8281-4650-bc0d-1ff1846f4a1c"
      },
      "execution_count": null,
      "outputs": [
        {
          "output_type": "execute_result",
          "data": {
            "text/plain": [
              "0.1964296765727333"
            ]
          },
          "metadata": {},
          "execution_count": 59
        }
      ]
    },
    {
      "cell_type": "code",
      "source": [
        "a.var()"
      ],
      "metadata": {
        "colab": {
          "base_uri": "https://localhost:8080/"
        },
        "id": "oMXoV1huBxb-",
        "outputId": "4dfce526-1b6f-408d-d7ce-47a51001c6f8"
      },
      "execution_count": null,
      "outputs": [
        {
          "output_type": "execute_result",
          "data": {
            "text/plain": [
              "0.03858461783846861"
            ]
          },
          "metadata": {},
          "execution_count": 60
        }
      ]
    },
    {
      "cell_type": "code",
      "source": [
        "a.mean()"
      ],
      "metadata": {
        "colab": {
          "base_uri": "https://localhost:8080/"
        },
        "id": "3vQF_OOVByrN",
        "outputId": "c25d0cb6-3092-4c80-da64-c9db449ad0a5"
      },
      "execution_count": null,
      "outputs": [
        {
          "output_type": "execute_result",
          "data": {
            "text/plain": [
              "0.4840526221998066"
            ]
          },
          "metadata": {},
          "execution_count": 61
        }
      ]
    },
    {
      "cell_type": "markdown",
      "source": [
        "STACKING \n",
        "stacking used to join 2 diffrent arrays\n",
        "verticle stacking\n",
        "horizontal stacking"
      ],
      "metadata": {
        "id": "PzG9ki9fB966"
      }
    },
    {
      "cell_type": "code",
      "source": [
        "a=np.array([1,2,3,4,5])\n",
        "b=np.array([4,5,6,7,8])"
      ],
      "metadata": {
        "id": "PWjsI-ClB9Nc"
      },
      "execution_count": null,
      "outputs": []
    },
    {
      "cell_type": "code",
      "source": [
        "np.hstack([a,b])"
      ],
      "metadata": {
        "colab": {
          "base_uri": "https://localhost:8080/"
        },
        "id": "_Zjcg3YECYvS",
        "outputId": "b5a0fa0f-4464-4603-abe8-705b0250aa4a"
      },
      "execution_count": null,
      "outputs": [
        {
          "output_type": "execute_result",
          "data": {
            "text/plain": [
              "array([1, 2, 3, 4, 5, 4, 5, 6, 7, 8])"
            ]
          },
          "metadata": {},
          "execution_count": 63
        }
      ]
    },
    {
      "cell_type": "code",
      "source": [
        "np.vstack([a,b])"
      ],
      "metadata": {
        "colab": {
          "base_uri": "https://localhost:8080/"
        },
        "id": "lsyI4aWzCdTm",
        "outputId": "e6ccaf5c-2c2f-4bbb-9563-8aa608029761"
      },
      "execution_count": null,
      "outputs": [
        {
          "output_type": "execute_result",
          "data": {
            "text/plain": [
              "array([[1, 2, 3, 4, 5],\n",
              "       [4, 5, 6, 7, 8]])"
            ]
          },
          "metadata": {},
          "execution_count": 64
        }
      ]
    },
    {
      "cell_type": "code",
      "source": [],
      "metadata": {
        "id": "jWMAcSzFChFa"
      },
      "execution_count": null,
      "outputs": []
    }
  ]
}